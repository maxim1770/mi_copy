{
 "cells": [
  {
   "cell_type": "code",
   "execution_count": 43,
   "outputs": [
    {
     "name": "stderr",
     "output_type": "stream",
     "text": [
      "UsageError: Line magic function `%` not found.\n"
     ]
    }
   ],
   "source": [
    "# Подключение бибылиотек\n",
    "from pydantic import BaseModel, PositiveInt, ValidationError, root_validator\n",
    "import numpy as np\n",
    "import scipy\n",
    "import matplotlib.pyplot as plt\n",
    "import sympy as sp\n",
    "from sympy.abc import a, b, x, y, i, n, lamda\n",
    "from sympy import cos, pi, diff, solve, Interval, var, symbols\n",
    "\n",
    "from pathlib import Path\n",
    "\n",
    "from IPython.core.interactiveshell import InteractiveShell\n",
    "\n",
    "InteractiveShell.ast_node_interactivity = \"all\"\n",
    "\n",
    "% matplotlib inline\n",
    "% config IPCompleter.greedy=True"
   ],
   "metadata": {
    "collapsed": false,
    "pycharm": {
     "name": "#%%\n"
    }
   }
  },
  {
   "cell_type": "code",
   "execution_count": 37,
   "outputs": [],
   "source": [
    "f = x ** 2 + y ** 2 + x * y - 4 * x - 5 * y\n",
    "f_x = diff(f, x)\n",
    "f_y = diff(f, y)"
   ],
   "metadata": {
    "collapsed": false,
    "pycharm": {
     "name": "#%%\n"
    }
   }
  },
  {
   "cell_type": "code",
   "execution_count": 38,
   "outputs": [
    {
     "data": {
      "text/plain": "{x: 1, y: 2}"
     },
     "execution_count": 38,
     "metadata": {},
     "output_type": "execute_result"
    }
   ],
   "source": [
    "solve([f_x, f_y], [x, y])"
   ],
   "metadata": {
    "collapsed": false,
    "pycharm": {
     "name": "#%%\n"
    }
   }
  },
  {
   "cell_type": "code",
   "execution_count": 26,
   "outputs": [
    {
     "ename": "ValueError",
     "evalue": "Interval(-5, 5) is not a valid symbol.",
     "output_type": "error",
     "traceback": [
      "\u001B[1;31m---------------------------------------------------------------------------\u001B[0m",
      "\u001B[1;31mValueError\u001B[0m                                Traceback (most recent call last)",
      "Cell \u001B[1;32mIn [26], line 4\u001B[0m\n\u001B[0;32m      1\u001B[0m \u001B[38;5;28;01mfrom\u001B[39;00m \u001B[38;5;21;01msympy\u001B[39;00m\u001B[38;5;21;01m.\u001B[39;00m\u001B[38;5;21;01mcalculus\u001B[39;00m\u001B[38;5;21;01m.\u001B[39;00m\u001B[38;5;21;01mutil\u001B[39;00m \u001B[38;5;28;01mimport\u001B[39;00m minimum, maximum\n\u001B[0;32m      3\u001B[0m interv \u001B[38;5;241m=\u001B[39m Interval(\u001B[38;5;241m-\u001B[39m\u001B[38;5;241m5\u001B[39m, \u001B[38;5;241m5\u001B[39m)\n\u001B[1;32m----> 4\u001B[0m res_min \u001B[38;5;241m=\u001B[39m minimum(f, interv)\n\u001B[0;32m      5\u001B[0m res_max \u001B[38;5;241m=\u001B[39m maximum(f, interv)\n\u001B[0;32m      6\u001B[0m res_min\n",
      "File \u001B[1;32m~\\python_projects\\python_work\\pmi\\venv\\lib\\site-packages\\sympy\\calculus\\util.py:843\u001B[0m, in \u001B[0;36mminimum\u001B[1;34m(f, symbol, domain)\u001B[0m\n\u001B[0;32m    841\u001B[0m     \u001B[38;5;28;01mreturn\u001B[39;00m function_range(f, symbol, domain)\u001B[38;5;241m.\u001B[39minf\n\u001B[0;32m    842\u001B[0m \u001B[38;5;28;01melse\u001B[39;00m:\n\u001B[1;32m--> 843\u001B[0m     \u001B[38;5;28;01mraise\u001B[39;00m \u001B[38;5;167;01mValueError\u001B[39;00m(\u001B[38;5;124m\"\u001B[39m\u001B[38;5;132;01m%s\u001B[39;00m\u001B[38;5;124m is not a valid symbol.\u001B[39m\u001B[38;5;124m\"\u001B[39m \u001B[38;5;241m%\u001B[39m symbol)\n",
      "\u001B[1;31mValueError\u001B[0m: Interval(-5, 5) is not a valid symbol."
     ]
    }
   ],
   "source": [
    "from sympy.calculus.util import minimum, maximum\n",
    "\n",
    "interv = Interval(-5, 5)\n",
    "res_min = minimum(f, interv)\n",
    "res_max = maximum(f, interv)\n",
    "res_min\n",
    "res_max"
   ],
   "metadata": {
    "collapsed": false,
    "pycharm": {
     "name": "#%%\n"
    }
   }
  },
  {
   "cell_type": "code",
   "execution_count": 25,
   "outputs": [
    {
     "data": {
      "text/plain": "Interval(-5, 5)",
      "text/latex": "$\\displaystyle \\left[-5, 5\\right]$"
     },
     "execution_count": 25,
     "metadata": {},
     "output_type": "execute_result"
    }
   ],
   "source": [
    "interv = Interval(-5, 5)\n",
    "interv"
   ],
   "metadata": {
    "collapsed": false,
    "pycharm": {
     "name": "#%%\n"
    }
   }
  },
  {
   "cell_type": "code",
   "execution_count": null,
   "outputs": [],
   "source": [],
   "metadata": {
    "collapsed": false,
    "pycharm": {
     "name": "#%%\n"
    }
   }
  },
  {
   "cell_type": "code",
   "execution_count": 36,
   "outputs": [
    {
     "data": {
      "text/plain": "u1**2 + u2**2 + u3**2",
      "text/latex": "$\\displaystyle u_{1}^{2} + u_{2}^{2} + u_{3}^{2}$"
     },
     "execution_count": 36,
     "metadata": {},
     "output_type": "execute_result"
    },
    {
     "data": {
      "text/plain": "{u1: 8/3 - 2*u3/3, u2: 1/3 - u3/3}"
     },
     "execution_count": 36,
     "metadata": {},
     "output_type": "execute_result"
    }
   ],
   "source": [
    "u1 = symbols('u1')\n",
    "u2 = symbols('u2')\n",
    "u3 = symbols('u3')\n",
    "\n",
    "J_u = u1**2 + u2**2 + u3**2\n",
    "\n",
    "solve([2*u1 -u2 + u3 - 5, u1 + u2 + u3 -3], [u1, u2, u3])"
   ],
   "metadata": {
    "collapsed": false,
    "pycharm": {
     "name": "#%%\n"
    }
   }
  },
  {
   "cell_type": "code",
   "execution_count": 51,
   "outputs": [
    {
     "data": {
      "text/plain": "lamda",
      "text/latex": "$\\displaystyle \\lambda$"
     },
     "execution_count": 51,
     "metadata": {},
     "output_type": "execute_result"
    }
   ],
   "source": [],
   "metadata": {
    "collapsed": false,
    "pycharm": {
     "name": "#%%\n"
    }
   }
  }
 ],
 "metadata": {
  "kernelspec": {
   "display_name": "Python 3",
   "language": "python",
   "name": "python3"
  },
  "language_info": {
   "codemirror_mode": {
    "name": "ipython",
    "version": 2
   },
   "file_extension": ".py",
   "mimetype": "text/x-python",
   "name": "python",
   "nbconvert_exporter": "python",
   "pygments_lexer": "ipython2",
   "version": "2.7.6"
  }
 },
 "nbformat": 4,
 "nbformat_minor": 0
}