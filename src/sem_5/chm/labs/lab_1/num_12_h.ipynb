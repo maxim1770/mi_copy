{
 "cells": [
  {
   "cell_type": "markdown",
   "metadata": {
    "pycharm": {
     "name": "#%% md\n"
    }
   },
   "source": [
    "## Лабораторные занятия по численным методам\n",
    "\n",
    "|                       |                             |\n",
    "|:----------------------|:---------------------------:|\n",
    "| Подготовили           | Смирнова Л. и Глуховский М. |\n",
    "| Преподаватель         | Шабунина Зоя Александровна  |\n",
    "| Лабораторная работа   |      № 1 Задание 12**       |\n",
    "| Язык программирования |           Python            |\n",
    "\n",
    "---\n",
    "\n",
    "### Задание 12 (**).\n",
    "**Назначение.** Численные исследования сходимости глобальных интерполяционных процессов для непрерывных на отрезке функций.\n",
    "\n",
    "**Метод.** Для визуального исследования сходимости интерполяционных процессов разработать процедуру, которая выводит на экран компьютера два графика на заданном отрезке – график заданной функции\n",
    "`f(x)` и график глобального интерполяционного многочлена Фейера,\n",
    "построенного для этой функции на сетке чебышевских узлов. Входными параметрами этой процедуры являются концы отрезка интерполирования, количество чебышевских узлов на этом отрезке, непрерывная функция `f(x)`.\n",
    "\n",
    "**Замечание.**\n",
    "Вычислительные эксперименты должны быть проведены в том числе\n",
    "для функций `1/(1 + 25x²)`, `|x|`.\n",
    "\n",
    "**Указание.** См. `[1]` настоящего пособия.\n",
    "\n",
    "---\n"
   ]
  },
  {
   "cell_type": "code",
   "execution_count": 2,
   "metadata": {
    "pycharm": {
     "name": "#%%\n"
    }
   },
   "outputs": [],
   "source": [
    "# Подключение бибылиотек\n",
    "from pydantic import BaseModel, PositiveInt, ValidationError, root_validator\n",
    "import numpy as np\n",
    "import matplotlib.pyplot as plt\n",
    "import sympy as sp\n",
    "from sympy.abc import a, b, x, i, n\n",
    "from sympy import cos, pi, Abs\n",
    "\n",
    "from pathlib import Path\n",
    "\n",
    "from IPython.core.interactiveshell import InteractiveShell\n",
    "InteractiveShell.ast_node_interactivity = \"all\"\n",
    "\n",
    "%matplotlib inline\n",
    "%config IPCompleter.greedy=True"
   ]
  },
  {
   "cell_type": "code",
   "execution_count": 3,
   "metadata": {
    "pycharm": {
     "name": "#%%\n"
    }
   },
   "outputs": [],
   "source": [
    "class InpData(BaseModel):\n",
    "    a: float | int\n",
    "    b: float | int\n",
    "    number_nodes: PositiveInt\n",
    "        \n",
    "    @root_validator\n",
    "    def check_segment_a_b(cls, values):\n",
    "        a, b = values.get('a'), values.get('b')\n",
    "        assert a <= b, f'invalid segment [{a}, {b}]'\n",
    "        return values\n",
    "\n",
    "try:\n",
    "    inp_data = InpData.parse_file(Path('input.json'))\n",
    "except ValidationError as e:\n",
    "    print(\"ОШИБКА ВХОДНЫХ ДАННЫХ\")\n",
    "    print(e.json())\n",
    "    raise e"
   ]
  },
  {
   "cell_type": "markdown",
   "metadata": {
    "pycharm": {
     "name": "#%% md\n"
    }
   },
   "source": [
    "### Функция"
   ]
  },
  {
   "cell_type": "code",
   "execution_count": null,
   "outputs": [],
   "source": [
    "# f_x = 1/ (1 + 25 * x**2)\n",
    "# f_x = Abs(x)\n",
    "# f_x = x ** 7 - x**6 + 5*x**5 - 3*x**4 + x\n",
    "f_x = x ** 2\n",
    "f_x"
   ],
   "metadata": {
    "collapsed": false,
    "pycharm": {
     "name": "#%%\n"
    }
   }
  },
  {
   "cell_type": "markdown",
   "source": [
    "### Чебышевские узлы"
   ],
   "metadata": {
    "collapsed": false,
    "pycharm": {
     "name": "#%% md\n"
    }
   }
  },
  {
   "cell_type": "code",
   "execution_count": null,
   "outputs": [],
   "source": [
    "def get_node(a: sp.core.symbol.Symbol | float | int = sp.symbols('a'), \n",
    "             b: sp.core.symbol.Symbol | float | int = sp.symbols('b'), \n",
    "             i: sp.core.symbol.Symbol | float | int = sp.symbols('i')\n",
    "            ) -> sp.core.add.Add:\n",
    "    x_i: sp.core.add.Add = (a + b) / 2 + ((b - a) / 2) * cos(((2*i + 1)/(2*i + 2))*pi)\n",
    "    return x_i\n",
    "\n",
    "def get_nodes(a: sp.core.symbol.Symbol | float | int = sp.symbols('a'), \n",
    "              b: sp.core.symbol.Symbol | float | int = sp.symbols('b'), \n",
    "              n: int = 0) -> list:\n",
    "    x_i: sp.core.add.Add = get_node(a, b)\n",
    "    return [x_i.subs(i, i_) for i_ in range(n)]\n",
    "\n",
    "\n",
    "get_node()\n",
    "\n",
    "nodes: list = get_nodes(a=inp_data.a, b=inp_data.b, n=inp_data.number_nodes)\n",
    "\n",
    "for node in get_nodes(a=a, b=b, n=3):\n",
    "    node\n",
    "    \n",
    "print(f\"Чебышевские узлы для a = {inp_data.a}, b = {inp_data.b}, кол. узлов = {inp_data.number_nodes}\")\n",
    "for node in nodes:\n",
    "    node"
   ],
   "metadata": {
    "collapsed": false,
    "pycharm": {
     "name": "#%%\n"
    }
   }
  },
  {
   "cell_type": "markdown",
   "source": [
    "### Глобальный интерполяционный многочлен Фейера, построенный для этой функции на сетке чебышевских узлов"
   ],
   "metadata": {
    "collapsed": false,
    "pycharm": {
     "name": "#%% md\n"
    }
   }
  },
  {
   "cell_type": "code",
   "execution_count": null,
   "outputs": [],
   "source": [
    "def get_H(nodes: list | tuple,\n",
    "          f=None, \n",
    "          f_arg: sp.core.symbol.Symbol = sp.symbols('x'), \n",
    "          x: sp.core.symbol.Symbol | float | int = sp.symbols('x')\n",
    "         ) -> sp.core.add.Add:\n",
    "    \n",
    "    H: sp.core.add.Add = 0\n",
    "        \n",
    "    for x_i in nodes:\n",
    "        a_i = 0\n",
    "        for x_k in nodes: \n",
    "            if x_k != x_i:\n",
    "                a_i += 1 / (x_i - x_k)\n",
    "        a_i *= -2\n",
    "        \n",
    "        \n",
    "        b_i = 1 - a_i * x_i\n",
    "        \n",
    "        numerator: sp.core.mul.Mul = sp.prod([(x - xi_)**2 for xi_ in nodes if xi_ != x_i]) * (a_i * x + b_i)\n",
    "        denominator: sp.core.mul.Mul = sp.prod([(x_i - xi_)**2 for xi_ in nodes if xi_ != x_i])\n",
    "\n",
    "        if not f:\n",
    "            f_x_i = sp.Function('f')(x_i)\n",
    "        else:\n",
    "            f_x_i = f.subs(f_arg, x_i)\n",
    "            \n",
    "        H += f_x_i * numerator / denominator\n",
    "\n",
    "    return H\n",
    "\n",
    "nodes_symbols: tuple = sp.var(f'x0:{inp_data.number_nodes}')\n",
    "get_H(nodes_symbols)\n",
    "\n",
    "# print(\"Для чебышевских узлов и функции f(x): \")\n",
    "H_x: sp.core.add.Add = get_H(nodes, f_x)\n",
    "# H_x"
   ],
   "metadata": {
    "collapsed": false,
    "pycharm": {
     "name": "#%%\n"
    }
   }
  },
  {
   "cell_type": "markdown",
   "source": [
    "### График заданной функции `f(x)` и график глобального интерполяционного многочлена Фейера, построенного для этой функции на сетке чебышевских узлов\n"
   ],
   "metadata": {
    "collapsed": false,
    "pycharm": {
     "name": "#%% md\n"
    }
   }
  },
  {
   "cell_type": "code",
   "execution_count": null,
   "outputs": [],
   "source": [
    "plot_1 = sp.plotting.plot(H_x, (x, inp_data.a, inp_data.b), line_color='red', show=False, title='Графики функций f(x) и H(x)') \n",
    "plot_2 = sp.plotting.plot(f_x, (x, inp_data.a, inp_data.b), line_color='blue', show=False)\n",
    "plot_1.append(plot_2[0])\n",
    "plot_1.show()"
   ],
   "metadata": {
    "collapsed": false,
    "pycharm": {
     "name": "#%%\n"
    }
   }
  },
  {
   "cell_type": "markdown",
   "source": [
    "### Графики на отдельных изображениях"
   ],
   "metadata": {
    "collapsed": false,
    "pycharm": {
     "name": "#%% md\n"
    }
   }
  },
  {
   "cell_type": "code",
   "execution_count": null,
   "outputs": [],
   "source": [
    "sp.plotting.plot(f_x, (x, inp_data.a, inp_data.b), title='График функции f(x)')\n",
    "sp.plotting.plot(H_x, (x, inp_data.a, inp_data.b), title='График функции H(x)', line_color='red')"
   ],
   "metadata": {
    "collapsed": false,
    "pycharm": {
     "name": "#%%\n"
    }
   }
  },
  {
   "cell_type": "markdown",
   "source": [
    "### Вся логика вместе, с выводом только графиков"
   ],
   "metadata": {
    "collapsed": false,
    "pycharm": {
     "name": "#%% md\n"
    }
   }
  },
  {
   "cell_type": "code",
   "execution_count": null,
   "outputs": [],
   "source": [
    "def get_H(nodes: list | tuple,\n",
    "          f=None, \n",
    "          f_arg: sp.core.symbol.Symbol = sp.symbols('x'), \n",
    "          x: sp.core.symbol.Symbol | float | int = sp.symbols('x')\n",
    "         ) -> sp.core.add.Add:\n",
    "    \n",
    "    H: sp.core.add.Add = 0\n",
    "        \n",
    "    for x_i in nodes:\n",
    "        a_i = 0\n",
    "        for x_k in nodes: \n",
    "            if x_k != x_i:\n",
    "                a_i += 1 / (x_i - x_k)\n",
    "        a_i *= -2\n",
    "        \n",
    "        \n",
    "        b_i = 1 - a_i * x_i\n",
    "        \n",
    "        numerator: sp.core.mul.Mul = sp.prod([(x - xi_)**2 for xi_ in nodes if xi_ != x_i]) * (a_i * x + b_i)\n",
    "        denominator: sp.core.mul.Mul = sp.prod([(x_i - xi_)**2 for xi_ in nodes if xi_ != x_i])\n",
    "\n",
    "        if not f:\n",
    "            f_x_i = sp.Function('f')(x_i)\n",
    "        else:\n",
    "            f_x_i = f.subs(f_arg, x_i)\n",
    "            \n",
    "        H += f_x_i * numerator / denominator\n",
    "\n",
    "    return H\n",
    "\n",
    "try:\n",
    "    inp_data = InpData.parse_file(Path('input.json'))\n",
    "except ValidationError as e:\n",
    "    print(\"ОШИБКА ВХОДНЫХ ДАННЫХ\")\n",
    "    print(e.json())\n",
    "    raise e\n",
    "\n",
    "\n",
    "f_x = x\n",
    "\n",
    "nodes: list = get_nodes(a=inp_data.a, b=inp_data.b, n=inp_data.number_nodes)\n",
    "\n",
    "H_x: sp.core.add.Add = get_H(nodes, f_x)\n",
    "\n",
    "plot_1 = sp.plotting.plot(H_x, (x, inp_data.a, inp_data.b), line_color='red', show=False, title='Графики функций f(x) и H(x)') \n",
    "plot_2 = sp.plotting.plot(f_x, (x, inp_data.a, inp_data.b), line_color='blue', show=False)\n",
    "plot_1.append(plot_2[0])\n",
    "plot_1.show()"
   ],
   "metadata": {
    "collapsed": false,
    "pycharm": {
     "name": "#%%\n"
    }
   }
  },
  {
   "cell_type": "code",
   "execution_count": null,
   "outputs": [],
   "source": [
    "sp.plotting.plot(f_x, (x, inp_data.a, inp_data.b), title='График функции f(x)')\n",
    "sp.plotting.plot(H_x, (x, inp_data.a, inp_data.b), title='График функции H(x)', line_color='red')"
   ],
   "metadata": {
    "collapsed": false,
    "pycharm": {
     "name": "#%%\n"
    }
   }
  },
  {
   "cell_type": "code",
   "execution_count": null,
   "outputs": [],
   "source": [],
   "metadata": {
    "collapsed": false,
    "pycharm": {
     "name": "#%%\n"
    }
   }
  },
  {
   "cell_type": "code",
   "execution_count": null,
   "outputs": [],
   "source": [
    "### По той же формуле, в другом виде"
   ],
   "metadata": {
    "collapsed": false,
    "pycharm": {
     "name": "#%%\n"
    }
   }
  },
  {
   "cell_type": "code",
   "execution_count": null,
   "outputs": [],
   "source": [
    "def get_H(nodes: list | tuple,\n",
    "          f=None, \n",
    "          f_arg: sp.core.symbol.Symbol = sp.symbols('x'), \n",
    "          x: sp.core.symbol.Symbol | float | int = sp.symbols('x')\n",
    "         ) -> sp.core.add.Add:\n",
    "    \n",
    "    H: sp.core.add.Add = 0\n",
    "        \n",
    "    for x_i in nodes:\n",
    "        \n",
    "        numerator: sp.core.mul.Mul = sp.prod([(x - xi_)**2 for xi_ in nodes if xi_ != x_i]) * (x - x_i)\n",
    "        denominator: sp.core.mul.Mul = sp.prod([(x_i - xi_)**2 for xi_ in nodes if xi_ != x_i])\n",
    "                            \n",
    "        a_i = 0\n",
    "        for x_k in nodes: \n",
    "            if x_k != x_i:\n",
    "                a_i += 1 / (x_i - x_k)\n",
    "        a_i *= -2\n",
    "\n",
    "        b_i = 1 - a_i * x_i\n",
    "    \n",
    "    \n",
    "        if not f:\n",
    "            f_x_i = sp.Function('f')(x_i)\n",
    "        else:\n",
    "            f_x_i = f.subs(f_arg, x_i)\n",
    "    \n",
    "    \n",
    "        H += (a_i * x + b_i) * f_x_i* numerator / denominator\n",
    "    \n",
    "    \n",
    "    return H\n",
    "\n",
    "nodes_symbols: tuple = sp.var(f'x0:{inp_data.number_nodes}')\n",
    "get_H(nodes_symbols)\n",
    "\n",
    "# print(\"Для чебышевских узлов и функции f(x): \")\n",
    "H_x: sp.core.add.Add = get_H(nodes, f_x)\n",
    "# H_x"
   ],
   "metadata": {
    "collapsed": false,
    "pycharm": {
     "name": "#%%\n"
    }
   }
  }
 ],
 "metadata": {
  "kernelspec": {
   "display_name": "Python 3 (ipykernel)",
   "language": "python",
   "name": "python3"
  },
  "language_info": {
   "codemirror_mode": {
    "name": "ipython",
    "version": 3
   },
   "file_extension": ".py",
   "mimetype": "text/x-python",
   "name": "python",
   "nbconvert_exporter": "python",
   "pygments_lexer": "ipython3",
   "version": "3.10.5"
  }
 },
 "nbformat": 4,
 "nbformat_minor": 1
}